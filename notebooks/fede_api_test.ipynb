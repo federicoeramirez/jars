{
 "cells": [
  {
   "cell_type": "code",
   "execution_count": 1,
   "metadata": {},
   "outputs": [
    {
     "name": "stderr",
     "output_type": "stream",
     "text": [
      "/Users/f/.pyenv/versions/3.8.12/envs/lewagon/lib/python3.8/site-packages/text2emotion/__init__.py:2728: SyntaxWarning: \"is\" with a literal. Did you mean \"==\"?\n",
      "  if sum(emotions.values()) is 0:\n",
      "[nltk_data] Downloading package stopwords to /Users/f/nltk_data...\n",
      "[nltk_data]   Package stopwords is already up-to-date!\n",
      "[nltk_data] Downloading package punkt to /Users/f/nltk_data...\n",
      "[nltk_data]   Package punkt is already up-to-date!\n",
      "[nltk_data] Downloading package wordnet to /Users/f/nltk_data...\n",
      "[nltk_data]   Package wordnet is already up-to-date!\n"
     ]
    }
   ],
   "source": [
    "import os\n",
    "from dotenv import load_dotenv, find_dotenv\n",
    "import unidecode\n",
    "from lyricsgenius import Genius\n",
    "import spotipy\n",
    "import spotipy.util as util\n",
    "import text2emotion as te"
   ]
  },
  {
   "cell_type": "code",
   "execution_count": 2,
   "metadata": {},
   "outputs": [
    {
     "data": {
      "text/plain": [
       "True"
      ]
     },
     "execution_count": 2,
     "metadata": {},
     "output_type": "execute_result"
    }
   ],
   "source": [
    "env_path = find_dotenv()\n",
    "load_dotenv(env_path)"
   ]
  },
  {
   "cell_type": "markdown",
   "metadata": {},
   "source": [
    "# Testing Genius API"
   ]
  },
  {
   "cell_type": "code",
   "execution_count": 3,
   "metadata": {},
   "outputs": [],
   "source": [
    "# loading needed credentials\n",
    "genius_token = os.environ.get('LYRICSGENIUS_ACCESS_TOKEN')"
   ]
  },
  {
   "cell_type": "code",
   "execution_count": 16,
   "metadata": {},
   "outputs": [
    {
     "name": "stdout",
     "output_type": "stream",
     "text": [
      "Searching for \"rejecter\" by nothing nowhere...\n",
      "Done.\n"
     ]
    }
   ],
   "source": [
    "# instantiate the class with some parameters\n",
    "genius = Genius(genius_token, \n",
    "                timeout=120, \n",
    "                remove_section_headers=True, \n",
    "                sleep_time=0.3, \n",
    "                skip_non_songs=True)\n",
    "\n",
    "# search with the user input (artist + song title)\n",
    "user_input_artist = \"nothing nowhere\"\n",
    "user_input_song = \"rejecter\"\n",
    "\n",
    "\n",
    "song = genius.search_song(title = user_input_song, artist = user_input_artist)\n",
    "\n",
    "# getting song id\n",
    "#song_id = song['sections'][0]['hits'][0]['result']['id']\n",
    "#song_id"
   ]
  },
  {
   "cell_type": "code",
   "execution_count": 17,
   "metadata": {},
   "outputs": [
    {
     "data": {
      "text/plain": [
       "'\\u200brejecter by\\xa0\\u200bnothing,nowhere.'"
      ]
     },
     "execution_count": 17,
     "metadata": {},
     "output_type": "execute_result"
    }
   ],
   "source": [
    "song.to_dict()['full_title']\n"
   ]
  },
  {
   "cell_type": "code",
   "execution_count": 19,
   "metadata": {},
   "outputs": [],
   "source": [
    "test_api_response = unidecode.unidecode(song.to_dict()['full_title'].replace('\\xa0', ' ').replace('\\u200b', ' ').lower())\n",
    "test_api_response = test_api_response.split(' by ')"
   ]
  },
  {
   "cell_type": "code",
   "execution_count": 7,
   "metadata": {},
   "outputs": [],
   "source": [
    "from difflib import SequenceMatcher\n",
    "\n",
    "def similar(a, b):\n",
    "    return SequenceMatcher(None, a, b).ratio()"
   ]
  },
  {
   "cell_type": "code",
   "execution_count": 20,
   "metadata": {},
   "outputs": [
    {
     "name": "stdout",
     "output_type": "stream",
     "text": [
      "0.9411764705882353\n",
      "0.875\n"
     ]
    }
   ],
   "source": [
    "song_similar = similar(test_api_response[0], unidecode.unidecode(user_input_song.lower()))\n",
    "artist_similar = similar(test_api_response[1], unidecode.unidecode(user_input_artist.lower()))\n",
    "print(song_similar)\n",
    "print(artist_similar)"
   ]
  },
  {
   "cell_type": "code",
   "execution_count": 25,
   "metadata": {},
   "outputs": [
    {
     "name": "stdout",
     "output_type": "stream",
     "text": [
      "\n",
      "You cannot hide\n",
      "And there's no sign\n",
      "The slow decline\n",
      "In your mind\n",
      "You are not mine\n",
      "I'm not yours\n",
      "Why would I try\n",
      "When you're not sure?\n",
      "I've been falling down, upstate\n",
      "Try to save me, it's too late\n",
      "Voices in my head, talking\n",
      "So I got the keys, I hop in\n",
      "Like I am just a reject\n",
      "Putting back the pieces\n",
      "Pushing you away like\n",
      "I don't even need this\n",
      "Laying on the freeway\n",
      "Thinking 'bout what she say\n",
      "Waiting for a semi-truck\n",
      "Like I don't even give a fuck\n",
      "I just need a reason\n",
      "I can't find a reason\n",
      "Watching all the cars go\n",
      "Passing like the seasons\n",
      "Feeding all my demons\n",
      "See you when I'm sleeping\n",
      "Now I think I like it like the pain became my Jesus\n",
      "\n",
      "Ooh, everything fade when I get this way\n",
      "Ooh, every damn day gotta feel like this\n",
      "Ooh, everyone knows that I lost my way\n",
      "Ooh, every damn day gonna be the same\n",
      "\n",
      "There's nothing in me\n",
      "Like asphalt or concrete\n",
      "Memories, fifteen\n",
      "Suffocating in my sheets\n",
      "I can hear the sound, racing\n",
      "Laying down now, take me\n",
      "Something in my head, hiding\n",
      "I see the lights, shining\n",
      "You might also like\n",
      "Like I am just a reject\n",
      "Putting back the pieces\n",
      "Pushing you away like\n",
      "I don't even need this\n",
      "Laying on the freeway\n",
      "Thinking 'bout what she say\n",
      "Waiting for a semi-truck\n",
      "Like I don't even give a fuck\n",
      "I just need a reason\n",
      "I can't find a reason\n",
      "Watching all the cars go\n",
      "Passing like the seasons\n",
      "Feeding all my demons\n",
      "See you when I'm sleeping\n",
      "Now I think I like it like the pain became my Jesus\n",
      "\n",
      "Ooh, everything fade when I get this way\n",
      "Ooh, every damn day gotta feel like this\n",
      "Ooh, everyone knows that I lost my way\n",
      "Ooh, every damn day gonna be the same\n",
      "\n",
      "Ooh, everything fade when I get this way\n",
      "Ooh, every damn day gotta feel like this\n",
      "Ooh, everyone knows that I lost my way\n",
      "Ooh, every damn day gonna be the same\n",
      "Ooh, everything fade when I get this way\n",
      "Ooh, every damn day gotta feel like this\n",
      "Ooh, everyone knows that I lost my way\n",
      "Ooh, every damn day gonna be the same\n",
      "Ooh, everything fade when I get this way\n",
      "Ooh, every damn day gotta feel like this\n",
      "Ooh, everyone knows that I lost my way\n",
      "Ooh, every damn day gonna be the same4\n"
     ]
    }
   ],
   "source": [
    "if song_similar > 0.9:\n",
    "    \n",
    "    # all lyrics responses come with the song's title and 'Lyrics' str\n",
    "    characters_to_remove = len(song.to_dict()['title'] + ' Lyrics')   \n",
    "    \n",
    "    # \n",
    "    lyrics = genius.lyrics(song.to_dict()['id'])[characters_to_remove:-5]\n",
    "    \n",
    "    print(lyrics)\n",
    "    \n",
    "else:\n",
    "    \n",
    "    lyrics = None\n",
    "    \n",
    "    print(lyrics)"
   ]
  },
  {
   "cell_type": "code",
   "execution_count": 26,
   "metadata": {},
   "outputs": [
    {
     "data": {
      "text/plain": [
       "{'Happy': 0.19, 'Angry': 0.06, 'Surprise': 0.4, 'Sad': 0.21, 'Fear': 0.14}"
      ]
     },
     "execution_count": 26,
     "metadata": {},
     "output_type": "execute_result"
    }
   ],
   "source": [
    "emotions = te.get_emotion(lyrics)\n",
    "emotions"
   ]
  },
  {
   "cell_type": "code",
   "execution_count": 14,
   "metadata": {},
   "outputs": [
    {
     "name": "stderr",
     "output_type": "stream",
     "text": [
      "[nltk_data] Downloading package vader_lexicon to /Users/f/nltk_data...\n"
     ]
    }
   ],
   "source": [
    "import nltk\n",
    "nltk.download('vader_lexicon')\n",
    "\n",
    "from nltk.sentiment.vader import SentimentIntensityAnalyzer\n",
    "\n",
    "sid = SentimentIntensityAnalyzer()"
   ]
  },
  {
   "cell_type": "code",
   "execution_count": 24,
   "metadata": {},
   "outputs": [
    {
     "data": {
      "text/plain": [
       "{'neg': 0.132, 'neu': 0.732, 'pos': 0.136, 'compound': -0.0372}"
      ]
     },
     "execution_count": 24,
     "metadata": {},
     "output_type": "execute_result"
    }
   ],
   "source": [
    "sid.polarity_scores(lyrics)"
   ]
  },
  {
   "cell_type": "code",
   "execution_count": 15,
   "metadata": {},
   "outputs": [],
   "source": [
    "# all lyrics responses come with the song's title and 'Lyrics' str\n",
    "characters_to_remove = len(\n",
    "    song['sections'][0]['hits'][0]['result']['title'] + ' Lyrics')"
   ]
  },
  {
   "cell_type": "code",
   "execution_count": 16,
   "metadata": {},
   "outputs": [
    {
     "data": {
      "text/plain": [
       "\"\\n\\nSo close, no matter how far\\nCouldn't be much more from the heart\\nForever trusting who we are\\n\\nAnd nothing else matters\\n\\nNever opened myself this way\\nLife is ours, we live it our way\\nAll these words I don't just say\\nAnd nothing else matters\\n\\nTrust I seek and I find in you\\nEveryday, for us, something new\\nOpen mind for a different view\\n\\nAnd nothing else matters\\n\\nNever cared for what they do\\nNever cared for what they know\\nBut I know\\n\\nSo close, no matter how far\\nIt couldn't be much more from the heart\\nForever trusting who we are\\n\\nAnd nothing else matters\\n\\nNever cared for what they do\\nNever cared for what they know\\nBut I know\\nYou might also like\\n\\nI never opened myself this way\\nLife is ours, we live it our way\\nAll these words I don't just say\\n\\nAnd nothing else matters\\n\\nTrust I seek and I find in you\\nEveryday, for us, something new\\nOpen mind for a different view\\n\\nAnd nothing else matters\\n\\nNever cared for what they say\\nNever cared for games they play\\n\\nNever cared for what they do\\nNever cared for what they know\\nAnd I know, yeah-yeah!\\n\\nSo close, no matter how far\\nCouldn't be much more from the heart\\nForever trusting who we are\\n\\nNo, nothing else matters\\n137\""
      ]
     },
     "execution_count": 16,
     "metadata": {},
     "output_type": "execute_result"
    }
   ],
   "source": [
    "# getting lyrics\n",
    "lyrics = genius.lyrics(song_id)[characters_to_remove:-5]\n",
    "lyrics"
   ]
  },
  {
   "cell_type": "code",
   "execution_count": 17,
   "metadata": {},
   "outputs": [
    {
     "data": {
      "text/plain": [
       "\"  So close, no matter how far Couldn't be much more from the heart Forever trusting who we are  And nothing else matters  Never opened myself this way Life is ours, we live it our way All these words I don't just say And nothing else matters  Trust I seek and I find in you Everyday, for us, something new Open mind for a different view  And nothing else matters  Never cared for what they do Never cared for what they know But I know  So close, no matter how far It couldn't be much more from the heart Forever trusting who we are  And nothing else matters  Never cared for what they do Never cared for what they know But I know You might also like  I never opened myself this way Life is ours, we live it our way All these words I don't just say  And nothing else matters  Trust I seek and I find in you Everyday, for us, something new Open mind for a different view  And nothing else matters  Never cared for what they say Never cared for games they play  Never cared for what they do Never cared for what they know And I know, yeah-yeah!  So close, no matter how far Couldn't be much more from the heart Forever trusting who we are  No, nothing else matters 137\""
      ]
     },
     "execution_count": 17,
     "metadata": {},
     "output_type": "execute_result"
    }
   ],
   "source": [
    "# simple creanup for text2emotion testing\n",
    "cleaned_lyrics = lyrics.replace('\\n', ' ')\n",
    "cleaned_lyrics"
   ]
  },
  {
   "cell_type": "markdown",
   "metadata": {},
   "source": [
    "# Testing Spotify API"
   ]
  },
  {
   "cell_type": "code",
   "execution_count": 5,
   "metadata": {},
   "outputs": [],
   "source": [
    "# needed credentials and permissions (scope)\n",
    "cid = os.environ.get('SPOTIFY_CLIENT_ID')\n",
    "secret = os.environ.get('SPOTIFY_CLIENT_SECRET')\n",
    "redirect_uri = os.environ.get('SPOTIPY_REDIRECT_URI')\n",
    "scope = 'playlist-modify-private'\n",
    "username = None"
   ]
  },
  {
   "cell_type": "code",
   "execution_count": 6,
   "metadata": {},
   "outputs": [],
   "source": [
    "# testing locally for user authentication, later development is needed\n",
    "spotify_token = util.prompt_for_user_token(username,\n",
    "                                           scope,\n",
    "                                           cid,\n",
    "                                           secret,\n",
    "                                           redirect_uri)\n",
    "\n",
    "sp = spotipy.Spotify(auth=spotify_token)"
   ]
  },
  {
   "cell_type": "code",
   "execution_count": 7,
   "metadata": {},
   "outputs": [],
   "source": [
    "# getting user id\n",
    "user_id = sp.me()['id']"
   ]
  },
  {
   "cell_type": "code",
   "execution_count": 8,
   "metadata": {},
   "outputs": [],
   "source": [
    "# creating a private playlist\n",
    "playlist = sp.user_playlist_create(user_id, \n",
    "                                   'test', \n",
    "                                   public=False, \n",
    "                                   collaborative=False, \n",
    "                                   description='Testing')"
   ]
  },
  {
   "cell_type": "code",
   "execution_count": 9,
   "metadata": {},
   "outputs": [
    {
     "data": {
      "text/plain": [
       "'1Q71YBTedi64Hy1gnUe5Tg'"
      ]
     },
     "execution_count": 9,
     "metadata": {},
     "output_type": "execute_result"
    }
   ],
   "source": [
    "# obtaining playlist id\n",
    "playlist_id = playlist['id']\n",
    "playlist_id"
   ]
  },
  {
   "cell_type": "code",
   "execution_count": 10,
   "metadata": {},
   "outputs": [],
   "source": [
    "# artist URI hardcoded for testing purposes\n",
    "# this top_tracks_list will be replaced by the IDs \n",
    "# extracted by the recommender\n",
    "top_tracks = sp.artist_top_tracks('spotify:artist:2NFrAuh8RQdQoS7iYFbckw')"
   ]
  },
  {
   "cell_type": "code",
   "execution_count": 11,
   "metadata": {},
   "outputs": [
    {
     "data": {
      "text/plain": [
       "['spotify:track:4loXMor75kKVBB03ygwDlh',\n",
       " 'spotify:track:4PMmwowVLOajPdiKnrU1vK',\n",
       " 'spotify:track:3nNNYRBtkNsKjertmtTRMO',\n",
       " 'spotify:track:6tJPdGKrbAeyhkkhn44RHR',\n",
       " 'spotify:track:6S10TQTWVy1Zf3bscMFBlU',\n",
       " 'spotify:track:1K0urJwRWgKsdufGEdkXP7',\n",
       " 'spotify:track:24B4TFlEOJzzqb33L4sbI5',\n",
       " 'spotify:track:4um6CPDIxnNWSEbj3LJQhQ',\n",
       " 'spotify:track:5s9eoyEyoeEj3fqtt0pQoQ',\n",
       " 'spotify:track:2hj7EbKUGH0xtAzv2q22dZ']"
      ]
     },
     "execution_count": 11,
     "metadata": {},
     "output_type": "execute_result"
    }
   ],
   "source": [
    "# get a list of tracks URI\n",
    "top_tracks_list = [tracks['uri'] for tracks in top_tracks['tracks']]\n",
    "top_tracks_list"
   ]
  },
  {
   "cell_type": "code",
   "execution_count": 12,
   "metadata": {},
   "outputs": [
    {
     "data": {
      "text/plain": [
       "{'snapshot_id': 'MixhNDEzMzEzMTdmNTExMjNlYzlmMTMwMDg5M2NkNDY3OGU1YzAwNWIz'}"
      ]
     },
     "execution_count": 12,
     "metadata": {},
     "output_type": "execute_result"
    }
   ],
   "source": [
    "# add songs to playlist\n",
    "sp.user_playlist_add_tracks(username, \n",
    "                            playlist_id, \n",
    "                            top_tracks_list, \n",
    "                            position=None)"
   ]
  }
 ],
 "metadata": {
  "kernelspec": {
   "display_name": "Python 3.8.12 64-bit ('lewagon')",
   "language": "python",
   "name": "python3"
  },
  "language_info": {
   "codemirror_mode": {
    "name": "ipython",
    "version": 3
   },
   "file_extension": ".py",
   "mimetype": "text/x-python",
   "name": "python",
   "nbconvert_exporter": "python",
   "pygments_lexer": "ipython3",
   "version": "3.8.12"
  },
  "orig_nbformat": 4,
  "vscode": {
   "interpreter": {
    "hash": "7c7d6478cee8e23e85426c90b6378b600ffc0f1f14c388e216ad8a5523bab00c"
   }
  }
 },
 "nbformat": 4,
 "nbformat_minor": 2
}
