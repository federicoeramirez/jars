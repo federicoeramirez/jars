{
 "cells": [
  {
   "cell_type": "code",
   "execution_count": null,
   "metadata": {},
   "outputs": [],
   "source": []
  }
 ],
 "metadata": {
  "kernelspec": {
   "display_name": "Python 3.8.12 64-bit ('lewagon')",
   "language": "python",
   "name": "python3"
  },
  "language_info": {
   "name": "python",
   "version": "3.8.12"
  },
  "orig_nbformat": 4,
  "vscode": {
   "interpreter": {
    "hash": "7c7d6478cee8e23e85426c90b6378b600ffc0f1f14c388e216ad8a5523bab00c"
   }
  }
 },
 "nbformat": 4,
 "nbformat_minor": 2
}
