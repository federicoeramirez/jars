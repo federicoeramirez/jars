{
 "cells": [
  {
   "cell_type": "code",
   "execution_count": 2,
   "metadata": {},
   "outputs": [],
   "source": [
    "import pandas as pd\n",
    "import time\n",
    "from langdetect import detect\n",
    "from transformers import pipeline\n",
    "from google.cloud import translate_v2 as translate\n",
    "from joblib import Parallel, delayed\n",
    "import os"
   ]
  },
  {
   "cell_type": "code",
   "execution_count": 33,
   "metadata": {},
   "outputs": [],
   "source": [
    "data = pd.read_csv('../raw_data/data_lyrics_10k.csv')\n",
    "#data_sample = data[:29]"
   ]
  },
  {
   "cell_type": "code",
   "execution_count": 34,
   "metadata": {},
   "outputs": [],
   "source": [
    "def detect_language(text):\n",
    "    if text != 'None':\n",
    "        return detect(text)\n",
    "    else:\n",
    "        return 'None'\n",
    "    \n",
    "def translate_text(text, language):\n",
    "    if language != ('en', 'None'):\n",
    "        translate_client = translate.Client()\n",
    "        result = translate_client.translate(text, target_language='en')\n",
    "        return result[\"translatedText\"].replace('&#39;',\"'\")\n",
    "    else:\n",
    "        return text\n"
   ]
  },
  {
   "cell_type": "code",
   "execution_count": 35,
   "metadata": {},
   "outputs": [],
   "source": [
    "def preprocess_language(data):\n",
    "\n",
    "    data['language'] = Parallel(n_jobs=os.cpu_count())\\\n",
    "        (delayed(detect_language)(lyric)\\\n",
    "        for lyric in data['lyrics'])\n",
    "        \n",
    "    data['translated_lyrics'] = Parallel(n_jobs=os.cpu_count())\\\n",
    "        (delayed(translate_text)(lyric, language)\\\n",
    "        for lyric, language in zip(data['lyrics'], data['language']))\n",
    "    \n",
    "    return data"
   ]
  },
  {
   "cell_type": "code",
   "execution_count": 37,
   "metadata": {},
   "outputs": [],
   "source": [
    "model_path = \"j-hartmann/emotion-english-distilroberta-base\"\n",
    "classifier = pipeline(\"text-classification\", model=model_path, tokenizer=model_path, top_k=None, max_length=512, truncation=True)\n",
    "\n",
    "\n",
    "def get_emotions(lyrics):\n",
    "    if lyrics != 'None':\n",
    "        emotions = classifier(lyrics)\n",
    "        emotions = sorted(emotions[0], key=lambda x: x[\"label\"])\n",
    "        new_dict = {}\n",
    "        for dictionary in emotions:\n",
    "            new_dict[dictionary['label']] = dictionary['score']\n",
    "        return new_dict\n",
    "    else:\n",
    "        emotions = {\n",
    "            'anger':0,\n",
    "            'disgust':0,\n",
    "            'fear':0,\n",
    "            'joy':0,\n",
    "            'neutral':0,\n",
    "            'sadness':0,\n",
    "            'surprise':0\n",
    "        }\n",
    "        return emotions\n",
    "\n",
    "\n",
    "def preprocess_emotions(data):\n",
    "    data[\"emotions\"] = data['translated_lyrics'].apply(lambda x : get_emotions(x))\n",
    "    data = pd.concat([data, data['emotions'].apply(pd.Series).fillna('None')], axis=1)\n",
    "\n",
    "    return data.drop(columns=['emotions'])"
   ]
  },
  {
   "cell_type": "code",
   "execution_count": 38,
   "metadata": {},
   "outputs": [],
   "source": [
    "def full_preprocess(data):\n",
    "    return preprocess_emotions(preprocess_language(data))"
   ]
  },
  {
   "cell_type": "code",
   "execution_count": 40,
   "metadata": {},
   "outputs": [
    {
     "name": "stdout",
     "output_type": "stream",
     "text": [
      "data full_preprocessing: 33.85306013623873 h\n"
     ]
    }
   ],
   "source": [
    "start = time.time()\n",
    "preprocessed_data = full_preprocess(data)     \n",
    "end = time.time()\n",
    "print(f\"data full_preprocessing: {end - start} s\")"
   ]
  },
  {
   "cell_type": "code",
   "execution_count": 41,
   "metadata": {},
   "outputs": [],
   "source": [
    "# save dataframe to csv\n",
    "preprocessed_data.to_csv('../raw_data/data_lyrics_10k_preprocessed.csv', mode='a')"
   ]
  }
 ],
 "metadata": {
  "kernelspec": {
   "display_name": "Python 3.8.12 64-bit ('lewagon')",
   "language": "python",
   "name": "python3"
  },
  "language_info": {
   "codemirror_mode": {
    "name": "ipython",
    "version": 3
   },
   "file_extension": ".py",
   "mimetype": "text/x-python",
   "name": "python",
   "nbconvert_exporter": "python",
   "pygments_lexer": "ipython3",
   "version": "3.8.12"
  },
  "orig_nbformat": 4,
  "vscode": {
   "interpreter": {
    "hash": "7c7d6478cee8e23e85426c90b6378b600ffc0f1f14c388e216ad8a5523bab00c"
   }
  }
 },
 "nbformat": 4,
 "nbformat_minor": 2
}
